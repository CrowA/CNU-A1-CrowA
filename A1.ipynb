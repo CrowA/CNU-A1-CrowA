{
 "cells": [
  {
   "cell_type": "code",
   "execution_count": 2,
   "metadata": {},
   "outputs": [],
   "source": [
    "import numpy as np\n",
    "import matplotlib.pyplot as plt"
   ]
  },
  {
   "cell_type": "code",
   "execution_count": 3,
   "metadata": {},
   "outputs": [
    {
     "name": "stdout",
     "output_type": "stream",
     "text": [
      "x = [  7.1 -16.2  -7.1  14.3]\n"
     ]
    }
   ],
   "source": [
    "A=np.array([[1,1,0,1],\n",
    "           [-1,0,1,1],\n",
    "           [0,-1,0,-1],\n",
    "           [1,0,1,0]],dtype=float)\n",
    "b=np.array([5.2,0.1,1.9,0],dtype=float)\n",
    "x=np.linalg.solve(A, b)\n",
    "print(\"x =\", x)"
   ]
  },
  {
   "cell_type": "code",
   "execution_count": 4,
   "metadata": {},
   "outputs": [
    {
     "name": "stdout",
     "output_type": "stream",
     "text": [
      "[ 8.88178420e-16  1.41553436e-15 -3.10862447e-15 -1.77635684e-15]\n",
      "23.827505114887707\n"
     ]
    }
   ],
   "source": [
    "p=A @ x.T - b.T\n",
    "print(p)\n",
    "r=np.sqrt((x @ x.T)) \n",
    "print (r)\n"
   ]
  },
  {
   "cell_type": "code",
   "execution_count": 7,
   "metadata": {},
   "outputs": [
    {
     "name": "stdout",
     "output_type": "stream",
     "text": [
      "x = [ 7.10000004e+08 -1.42000001e+09 -7.10000004e+08  1.42000001e+09]\n",
      "2.5343532069515723e-07\n"
     ]
    }
   ],
   "source": [
    "A_2=np.array([[10 ** (-8),1,0,1],\n",
    "           [-1,0,1,1],\n",
    "           [0,-1,0,-1],\n",
    "           [1,0,1,0]],dtype=float)\n",
    "x=np.linalg.solve(A_2, b)\n",
    "print(\"x =\", x)\n",
    "p=A_2 @ x.T - b.T\n",
    "r=np.sqrt((p @ p.T)) \n",
    "print (r)"
   ]
  },
  {
   "cell_type": "code",
   "execution_count": 5,
   "metadata": {},
   "outputs": [
    {
     "name": "stdout",
     "output_type": "stream",
     "text": [
      "x = [  7.1 -16.2  -7.1  14.3]\n",
      "[ 8.88178420e-16  1.41553436e-15 -3.10862447e-15 -1.77635684e-15]\n",
      "23.827505114887707\n"
     ]
    }
   ],
   "source": [
    "A_3=np.array([[10 ** (-10),1,0,1],\n",
    "           [-1,0,1,1],\n",
    "           [0,-1,0,-1],\n",
    "           [1,0,1,0]],dtype=float)\n",
    "x=np.linalg.solve(A, b)\n",
    "print(\"x =\", x)\n",
    "p=A @ x.T - b.T\n",
    "print(p)\n",
    "r=np.sqrt((x @ x.T)) \n",
    "print (r)"
   ]
  },
  {
   "cell_type": "code",
   "execution_count": 6,
   "metadata": {},
   "outputs": [
    {
     "name": "stdout",
     "output_type": "stream",
     "text": [
      "x = [  7.1 -16.2  -7.1  14.3]\n",
      "[ 8.88178420e-16  1.41553436e-15 -3.10862447e-15 -1.77635684e-15]\n",
      "23.827505114887707\n"
     ]
    }
   ],
   "source": [
    "A_3=np.array([[10 ** (-12),1,0,1],\n",
    "           [-1,0,1,1],\n",
    "           [0,-1,0,-1],\n",
    "           [1,0,1,0]],dtype=float)\n",
    "x=np.linalg.solve(A, b)\n",
    "print(\"x =\", x)\n",
    "p=A @ x.T - b.T\n",
    "print(p)\n",
    "r=np.sqrt((x @ x.T)) \n",
    "print (r)"
   ]
  },
  {
   "cell_type": "code",
   "execution_count": 7,
   "metadata": {},
   "outputs": [
    {
     "name": "stdout",
     "output_type": "stream",
     "text": [
      "0.9917355371900827\n",
      "0.9917355371900827\n"
     ]
    }
   ],
   "source": [
    "def sum_S(N,direction):\n",
    "    Ps=0\n",
    "    if direction==\"up\":\n",
    "        n=1\n",
    "        while n<= N:\n",
    "            Ps=Ps+(2*n+1)/((n**2)*((n+1)**2))\n",
    "            n=n+1 \n",
    "    elif direction == \"down\":\n",
    "        n=N\n",
    "        while n>=1:\n",
    "             Ps+=(2*n+1)/((n**2)*((n+1)**2))\n",
    "             n=n-1 \n",
    "    return Ps\n",
    "print(sum_S(10, 'up'))\n",
    "print(sum_S(10, 'down'))"
   ]
  },
  {
   "cell_type": "code",
   "execution_count": 8,
   "metadata": {},
   "outputs": [
    {
     "name": "stdout",
     "output_type": "stream",
     "text": [
      "[   1000.  112000.  223000.  334000.  445000.  556000.  667000.  778000.\n",
      "  889000. 1000000.]\n",
      "0.9999990019970034\n",
      "[9.98002996e-07 7.97180100e-11 2.01088035e-11 8.96405172e-12\n",
      " 5.04984943e-12 3.23485683e-12 2.24775754e-12 1.65212288e-12\n",
      " 1.26532118e-12 9.99977878e-13]\n",
      "[ 5.55111512e-02  9.99200722e-01 -1.66755498e+01 -1.59894320e+02\n",
      "  2.31525910e+02  4.13025170e+02  5.11735099e+02  5.71298564e+02\n",
      "  6.09978734e+02  6.36513064e+02]\n"
     ]
    },
    {
     "data": {
      "image/png": "[encoded data removed]",
      "text/plain": [
       "<Figure size 432x288 with 1 Axes>"
      ]
     },
     "metadata": {
      "needs_background": "light"
     },
     "output_type": "display_data"
    }
   ],
   "source": [
    "x = np.linspace(10**3, 10**6, 10)\n",
    "print(x)\n",
    "print(sum_S(x[0],\"up\"))\n",
    "y=np.array([1-sum_S(x[0],\"up\"),1-sum_S(x[1],\"up\"),1-sum_S(x[2],\"up\"),1-sum_S(x[3],\"up\"),1-sum_S(x[4],\"up\"),1-sum_S(x[5],\"up\"),1-sum_S(x[6],\"up\"),1-sum_S(x[7],\"up\"),1-sum_S(x[8],\"up\"),1-sum_S(x[9],\"up\")])\n",
    "\n",
    "fig, ax = plt.subplots()\n",
    "ax.set_xlabel(r\"$N$\", fontsize=12)\n",
    "ax.set_ylabel(r\"$sum_S \\left( N \\right)$\", fontsize=12)\n",
    "ax.set_xlim([10**3,10**6])\n",
    "ax.set_ylim([-1, 1])\n",
    "\n",
    "ax.plot(x, y,\"rx\")\n",
    "\n",
    "# Compute the summation function\n",
    "\n",
    "\n",
    "# Define and Compare to the closed-form\n",
    "def cfSum_S(N):\n",
    "    s=1-(1/((N+1)**2))\n",
    "    return s\n",
    "\n",
    "yexact=np.array([1-cfSum_S(x[0]),1-cfSum_S(x[1]),1-cfSum_S(x[2]),1-cfSum_S(x[3]),1-cfSum_S(x[4]),1-cfSum_S(x[5]),1-cfSum_S(x[6]),1-cfSum_S(x[7]),1-cfSum_S(x[8]),1-cfSum_S(x[9])])\n",
    "\n",
    "print(yexact)\n",
    "\n",
    "Sum_error = 100000000000000*np.array([cfSum_S(x[0])-sum_S(x[0],\"up\"),cfSum_S(x[1])-sum_S(x[1],\"up\"),cfSum_S(x[2])-sum_S(x[2],\"up\"),cfSum_S(x[3])-sum_S(x[3],\"up\"),cfSum_S(x[4])-sum_S(x[4],\"up\"),cfSum_S(x[5])-sum_S(x[5],\"up\"),cfSum_S(x[6])-sum_S(x[6],\"up\"),cfSum_S(x[7])-sum_S(x[7],\"up\"),cfSum_S(x[8])-sum_S(x[8],\"up\"),cfSum_S(x[9])-sum_S(x[9],\"up\")])\n",
    "\n",
    "print(Sum_error)"
   ]
  },
  {
   "cell_type": "code",
   "execution_count": 9,
   "metadata": {},
   "outputs": [
    {
     "data": {
      "image/png": "[encoded data removed]",
      "text/plain": [
       "<Figure size 576x432 with 2 Axes>"
      ]
     },
     "metadata": {
      "needs_background": "light"
     },
     "output_type": "display_data"
    }
   ],
   "source": [
    "# Plot the derivative, approximation, and error\n",
    "fig, ax = plt.subplots(2, 1, figsize=(8, 6))\n",
    "\n",
    "ax[0].plot(x, yexact, \"k-\", label=r\"$Sum$, exact\")\n",
    "ax[0].plot(x, y, \"rx\", label=r\"$Sum$, approximated\")\n",
    "ax[0].set_xlim([x[0], x[-1]])\n",
    "ax[0].set_ylim([0, 2])\n",
    "ax[0].set_xlabel(r\"$N$\", fontsize=12)\n",
    "ax[0].set_ylabel(r\"$Sum\\left( N \\right)$\", fontsize=12)\n",
    "ax[0].legend(loc=\"upper left\", fontsize=12)\n",
    "\n",
    "ax[1].plot(x, Sum_error, \"k-\", label=\"error\")\n",
    "ax[1].set_xlim([x[0], x[-1]])\n",
    "ax[1].set_xlabel(r\"$N$\", fontsize=12)\n",
    "ax[1].set_ylabel(r\"$Sum \\left( N \\right)$ error\", fontsize=12)\n",
    "ax[1].legend(loc=\"lower left\", fontsize=12)\n",
    "\n",
    "plt.show()"
   ]
  },
  {
   "cell_type": "code",
   "execution_count": 10,
   "metadata": {},
   "outputs": [],
   "source": [
    "def quadrature(f,k, xk, wk, a, b):\n",
    "    # Define the shifted and scaled nodes\n",
    "    yk = (b - a)/2 * (xk + 1) + a\n",
    "    # Compute the weighted sum\n",
    "    I_approx = (b - a)/2 * np.sum(wk * f(yk,k))\n",
    "    return I_approx\n",
    "\n",
    "def Simpson(f,k, a, b, M):\n",
    "    '''\n",
    "    Returns the approximation of the integral of f\n",
    "    over [a, b], using the composite trapezoid rule\n",
    "    with M equal-width partitions.\n",
    "    '''\n",
    "    # Find each sub-interval\n",
    "    bounds = np.linspace(a, b, M+1)\n",
    "    \n",
    "    # Define weights and nodes for trapezoid rule\n",
    "    xk = np.array([-1,0,1])\n",
    "    wk = np.array([1/3,4/3,1/3])\n",
    "    \n",
    "    # Loop to compute each small integral\n",
    "    I_approx = 0\n",
    "    for i in range(M):\n",
    "        I_approx += quadrature(f,k, xk, wk, bounds[i], bounds[i+1])\n",
    "    \n",
    "    return I_approx"
   ]
  },
  {
   "cell_type": "code",
   "execution_count": 11,
   "metadata": {},
   "outputs": [],
   "source": [
    "def I(x,k):\n",
    "    Ix=(x**4)*np.cos(k*x)\n",
    "    return Ix\n",
    "def simpson_I(k,N):\n",
    "    simpsonI=Simpson(I,k,0,2*np.pi,N)\n",
    "    return simpsonI\n",
    "def exactI(k):\n",
    "    eI=32*(np.pi**3)/(k**2) - (48*np.pi)/(k**4)\n",
    "    return eI"
   ]
  },
  {
   "cell_type": "code",
   "execution_count": 12,
   "metadata": {},
   "outputs": [
    {
     "name": "stdout",
     "output_type": "stream",
     "text": [
      "838.8146240307599\n",
      "841.404406397284\n",
      "2.589782366524105\n",
      "36\n",
      "0.000911465822127866\n"
     ]
    }
   ],
   "source": [
    "print (simpson_I(1,5))\n",
    "print (exactI(1))\n",
    "def errow(k,N):\n",
    "    e=exactI(k)-simpson_I(k,N)\n",
    "    return e\n",
    "print (errow(1,5))\n",
    "\n",
    "n=3\n",
    "epsilon=10**(-n)\n",
    "N=5\n",
    "while errow(1,N)>=epsilon:\n",
    "    N=N+1\n",
    "print(N)\n",
    "print(errow(1,N))"
   ]
  },
  {
   "cell_type": "code",
   "execution_count": 13,
   "metadata": {},
   "outputs": [
    {
     "name": "stdout",
     "output_type": "stream",
     "text": [
      "forward:[-0.95644914 -0.95622348 -0.95598957 -0.95574731 -0.9554966  -0.95523733\n",
      " -0.95496942 -0.95469274 -0.9544072  -0.95411269 -0.9538091  -0.95349633\n",
      " -0.95317426 -0.95284279 -0.95250181 -0.95215121 -0.95179086 -0.95142067\n",
      " -0.95104052 -0.95065029 -0.95024987 -0.94983913 -0.94941797 -0.94898626\n",
      " -0.94854389 -0.94809072 -0.94762666 -0.94715156 -0.94666531 -0.94616778\n",
      " -0.94565885 -0.94513839 -0.94460628 -0.94406238 -0.94350657 -0.94293873\n",
      " -0.94235871 -0.94176639 -0.94116163 -0.9405443  -0.93991427 -0.93927141\n",
      " -0.93861557 -0.93794662 -0.93726441 -0.93656883 -0.93585971 -0.93513693\n",
      " -0.93440033 -0.93364978]\n",
      "backward:[0.45969769 0.45753153 0.45535339 0.45316322 0.45096098 0.44874662\n",
      " 0.44652009 0.44428135 0.44203035 0.43976705 0.4374914  0.43520335\n",
      " 0.43290286 0.43058989 0.42826439 0.42592632 0.42357563 0.42121229\n",
      " 0.41883625 0.41644746 0.41404589 0.41163149 0.40920423 0.40676407\n",
      " 0.40431096 0.40184486 0.39936574 0.39687356 0.39436828 0.39184987\n",
      " 0.38931829 0.38677349 0.38421546 0.38164415 0.37905953 0.37646157\n",
      " 0.37385023 0.37122549 0.36858731 0.36593566 0.36327051 0.36059184\n",
      " 0.35789962 0.35519382 0.35247441 0.34974138 0.34699468 0.34423432\n",
      " 0.34146025 0.33867246]\n",
      "centred:[-1.41614684 -1.41572602 -1.41531585 -1.4149161  -1.41452653 -1.41414689\n",
      " -1.41377694 -1.41341642 -1.41306508 -1.41272267 -1.41238892 -1.41206358\n",
      " -1.41174636 -1.41143702 -1.41113526 -1.41084082 -1.41055341 -1.41027275\n",
      " -1.40999855 -1.40973052 -1.40946836 -1.40921178 -1.40896046 -1.40871411\n",
      " -1.40847241 -1.40823504 -1.40800169 -1.40777204 -1.40754574 -1.40732249\n",
      " -1.40710192 -1.40688372 -1.40666752 -1.40645299 -1.40623976 -1.40602748\n",
      " -1.40581579 -1.40560432 -1.40539268 -1.40518052 -1.40496744 -1.40475306\n",
      " -1.40453698 -1.40431881 -1.40409815 -1.40387458 -1.4036477  -1.40341709\n",
      " -1.40318232 -1.40294297]\n",
      "[0.11497816 0.11475249 0.11451858 0.11427632 0.11402561 0.11376635\n",
      " 0.11349843 0.11322176 0.11293621 0.1126417  0.11233811 0.11202534\n",
      " 0.11170328 0.11137181 0.11103083 0.11068022 0.11031988 0.10994969\n",
      " 0.10956954 0.10917931 0.10877888 0.10836815 0.10794698 0.10751528\n",
      " 0.1070729  0.10661974 0.10615567 0.10568057 0.10519432 0.10469679\n",
      " 0.10418786 0.1036674  0.10313529 0.1025914  0.10203559 0.10146774\n",
      " 0.10088772 0.1002954  0.09969064 0.09907332 0.09844329 0.09780042\n",
      " 0.09714458 0.09647563 0.09579343 0.09509784 0.09438872 0.09366594\n",
      " 0.09292935 0.0921788 ]\n"
     ]
    }
   ],
   "source": [
    "def F(x):\n",
    "    return np.cos(x) \n",
    "def dF(x):\n",
    "    return -np.sin(x)\n",
    "\n",
    "\n",
    "h = np.logspace(10**(-16), 10**(-1), num=50)\n",
    "x=1\n",
    "F_derivative_forward = (F(x + h) - F(x)) / h\n",
    "F_derivative_backward = (F(x-h)-F(x))/h\n",
    "F_derivative_centred = (F(x+h)-F(x-h)/h)\n",
    "print (f\"forward:{F_derivative_forward}\")\n",
    "print (f\"backward:{F_derivative_backward}\")\n",
    "print (f\"centred:{F_derivative_centred}\")\n",
    "Derivative_Error=abs(dF(x)-F_derivative_forward)\n",
    "print(dF(x)-F_derivative_forward)\n"
   ]
  },
  {
   "cell_type": "code",
   "execution_count": 16,
   "metadata": {},
   "outputs": [
    {
     "data": {
      "image/png": "[encoded data removed]",
      "text/plain": [
       "<Figure size 432x288 with 1 Axes>"
      ]
     },
     "metadata": {
      "needs_background": "light"
     },
     "output_type": "display_data"
    }
   ],
   "source": [
    "fig, ax = plt.subplots()\n",
    "\n",
    "plt.loglog(h, Derivative_Error, \"kx\", label=\"error\")\n",
    "#ax.set_xlim([h[0], h[-1]])\n",
    "ax.set_xlabel(r\"$h$\", fontsize=12)\n",
    "ax.set_ylabel(r\"$Derivative \\left( h \\right)$ error\", fontsize=12)\n",
    "ax.legend(loc=\"lower left\", fontsize=12)\n",
    "plt.show()"
   ]
  },
  {
   "cell_type": "code",
   "execution_count": null,
   "metadata": {},
   "outputs": [],
   "source": []
  }
 ],
 "metadata": {
  "kernelspec": {
   "display_name": "Python 3",
   "language": "python",
   "name": "python3"
  },
  "language_info": {
   "codemirror_mode": {
    "name": "ipython",
    "version": 3
   },
   "file_extension": ".py",
   "mimetype": "text/x-python",
   "name": "python",
   "nbconvert_exporter": "python",
   "pygments_lexer": "ipython3",
   "version": "3.8.5"
  }
 },
 "nbformat": 4,
 "nbformat_minor": 2
}
